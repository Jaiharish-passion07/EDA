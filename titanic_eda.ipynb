{
 "cells": [
  {
   "cell_type": "code",
   "execution_count": 1,
   "id": "naval-papua",
   "metadata": {},
   "outputs": [],
   "source": [
    "#Importing all Libraries\n",
    "import pandas as pd\n",
    "import numpy as np\n",
    "import matplotlib.pyplot as plt\n",
    "import seaborn as sns\n",
    "import warnings\n",
    "import warnings\n",
    "warnings.filterwarnings(\"ignore\")\n",
    "\n"
   ]
  },
  {
   "cell_type": "code",
   "execution_count": 2,
   "id": "concrete-object",
   "metadata": {},
   "outputs": [],
   "source": [
    "titanic=pd.DataFrame(pd.read_csv(\"C:\\\\Users\\\\JAI HARISH\\\\Downloads\\\\Datasets\\\\titanic\\\\train.csv\"))"
   ]
  },
  {
   "cell_type": "markdown",
   "id": "abandoned-christmas",
   "metadata": {},
   "source": [
    "## Exploratory Data Analysis"
   ]
  },
  {
   "cell_type": "code",
   "execution_count": 3,
   "id": "architectural-expansion",
   "metadata": {},
   "outputs": [],
   "source": [
    "# Dropping Unwanted Columns\n",
    "titanic.drop(['Name','PassengerId','Ticket'],axis=1,inplace=True)"
   ]
  },
  {
   "cell_type": "code",
   "execution_count": 4,
   "id": "competitive-positive",
   "metadata": {},
   "outputs": [
    {
     "name": "stdout",
     "output_type": "stream",
     "text": [
      "The Age has 0.1987% of Missing values\n",
      "The Cabin has 0.771% of Missing values\n",
      "The Embarked has 0.0022% of Missing values\n"
     ]
    }
   ],
   "source": [
    "null=titanic.isnull().mean().to_dict()\n",
    "for keys in null.keys():\n",
    "    i=np.round(null.get(keys),4)\n",
    "    if i!=0:\n",
    "        print(\"The {} has {}% of Missing values\".format(keys,i))\n"
   ]
  },
  {
   "cell_type": "markdown",
   "id": "composed-saint",
   "metadata": {},
   "source": [
    "### Imputation Techniques\n",
    "Cabin,Age,Embarked"
   ]
  },
  {
   "cell_type": "markdown",
   "id": "honest-forum",
   "metadata": {},
   "source": [
    "##### Age is MCNR"
   ]
  },
  {
   "cell_type": "code",
   "execution_count": 5,
   "id": "introductory-sampling",
   "metadata": {},
   "outputs": [],
   "source": [
    "#Age is Imputed using End of Distribution\n",
    "end=np.round((np.std(titanic.Age)*3)+titanic.Age.mean())\n",
    "titanic.Age.fillna(end,inplace=True)"
   ]
  },
  {
   "cell_type": "markdown",
   "id": "anticipated-access",
   "metadata": {},
   "source": [
    "#### Cabin and Embarked is MCR\n"
   ]
  },
  {
   "cell_type": "code",
   "execution_count": 6,
   "id": "decent-uncertainty",
   "metadata": {},
   "outputs": [],
   "source": [
    "#Embarked is Imputed using Frequency Imputation\n",
    "titanic.Embarked.fillna(titanic.Embarked.mode().iloc[0],inplace=True)\n",
    "#Cabin is Imputed nan values by replacing Missing \n",
    "titanic['Cabin_imp']=titanic.Cabin.fillna('Missing').astype(str).str[0]"
   ]
  },
  {
   "cell_type": "markdown",
   "id": "brave-emphasis",
   "metadata": {},
   "source": [
    "### Remove Outliers using IQR"
   ]
  },
  {
   "cell_type": "code",
   "execution_count": 7,
   "id": "desirable-phenomenon",
   "metadata": {},
   "outputs": [],
   "source": [
    "q1=np.percentile(titanic.Fare,.25)\n",
    "q3=np.percentile(titanic.Fare,.75)\n",
    "q1=titanic.Fare.quantile(.25)\n",
    "q3=titanic.Fare.quantile(.75)\n",
    "iqr=q3-q1\n",
    "titanic_clear=titanic[~((titanic.Fare<(q1-1.5*iqr))|(titanic.Fare>(q3+1.5*iqr)))]"
   ]
  },
  {
   "cell_type": "code",
   "execution_count": 8,
   "id": "silent-chess",
   "metadata": {},
   "outputs": [
    {
     "data": {
      "text/html": [
       "<div>\n",
       "<style scoped>\n",
       "    .dataframe tbody tr th:only-of-type {\n",
       "        vertical-align: middle;\n",
       "    }\n",
       "\n",
       "    .dataframe tbody tr th {\n",
       "        vertical-align: top;\n",
       "    }\n",
       "\n",
       "    .dataframe thead th {\n",
       "        text-align: right;\n",
       "    }\n",
       "</style>\n",
       "<table border=\"1\" class=\"dataframe\">\n",
       "  <thead>\n",
       "    <tr style=\"text-align: right;\">\n",
       "      <th></th>\n",
       "      <th>Survived</th>\n",
       "      <th>Pclass</th>\n",
       "      <th>Sex</th>\n",
       "      <th>Age</th>\n",
       "      <th>SibSp</th>\n",
       "      <th>Parch</th>\n",
       "      <th>Fare</th>\n",
       "      <th>Embarked</th>\n",
       "      <th>Cabin_imp</th>\n",
       "    </tr>\n",
       "  </thead>\n",
       "  <tbody>\n",
       "    <tr>\n",
       "      <th>0</th>\n",
       "      <td>0</td>\n",
       "      <td>3</td>\n",
       "      <td>male</td>\n",
       "      <td>22.0</td>\n",
       "      <td>1</td>\n",
       "      <td>0</td>\n",
       "      <td>7.2500</td>\n",
       "      <td>S</td>\n",
       "      <td>M</td>\n",
       "    </tr>\n",
       "    <tr>\n",
       "      <th>2</th>\n",
       "      <td>1</td>\n",
       "      <td>3</td>\n",
       "      <td>female</td>\n",
       "      <td>26.0</td>\n",
       "      <td>0</td>\n",
       "      <td>0</td>\n",
       "      <td>7.9250</td>\n",
       "      <td>S</td>\n",
       "      <td>M</td>\n",
       "    </tr>\n",
       "    <tr>\n",
       "      <th>3</th>\n",
       "      <td>1</td>\n",
       "      <td>1</td>\n",
       "      <td>female</td>\n",
       "      <td>35.0</td>\n",
       "      <td>1</td>\n",
       "      <td>0</td>\n",
       "      <td>53.1000</td>\n",
       "      <td>S</td>\n",
       "      <td>C</td>\n",
       "    </tr>\n",
       "    <tr>\n",
       "      <th>4</th>\n",
       "      <td>0</td>\n",
       "      <td>3</td>\n",
       "      <td>male</td>\n",
       "      <td>35.0</td>\n",
       "      <td>0</td>\n",
       "      <td>0</td>\n",
       "      <td>8.0500</td>\n",
       "      <td>S</td>\n",
       "      <td>M</td>\n",
       "    </tr>\n",
       "    <tr>\n",
       "      <th>5</th>\n",
       "      <td>0</td>\n",
       "      <td>3</td>\n",
       "      <td>male</td>\n",
       "      <td>73.0</td>\n",
       "      <td>0</td>\n",
       "      <td>0</td>\n",
       "      <td>8.4583</td>\n",
       "      <td>Q</td>\n",
       "      <td>M</td>\n",
       "    </tr>\n",
       "  </tbody>\n",
       "</table>\n",
       "</div>"
      ],
      "text/plain": [
       "   Survived  Pclass     Sex   Age  SibSp  Parch     Fare Embarked Cabin_imp\n",
       "0         0       3    male  22.0      1      0   7.2500        S         M\n",
       "2         1       3  female  26.0      0      0   7.9250        S         M\n",
       "3         1       1  female  35.0      1      0  53.1000        S         C\n",
       "4         0       3    male  35.0      0      0   8.0500        S         M\n",
       "5         0       3    male  73.0      0      0   8.4583        Q         M"
      ]
     },
     "execution_count": 8,
     "metadata": {},
     "output_type": "execute_result"
    }
   ],
   "source": [
    "del titanic_clear['Cabin']\n",
    "titanic_clear.head()"
   ]
  },
  {
   "cell_type": "markdown",
   "id": "expired-robin",
   "metadata": {},
   "source": [
    "### Data Visualization  "
   ]
  },
  {
   "cell_type": "markdown",
   "id": "automated-adjustment",
   "metadata": {},
   "source": [
    "#### Checking Correlation"
   ]
  },
  {
   "cell_type": "code",
   "execution_count": 9,
   "id": "disabled-principal",
   "metadata": {},
   "outputs": [
    {
     "data": {
      "text/plain": [
       "<AxesSubplot:>"
      ]
     },
     "execution_count": 9,
     "metadata": {},
     "output_type": "execute_result"
    },
    {
     "data": {
      "image/png": "[encoded data removed]",
      "text/plain": [
       "<Figure size 720x576 with 2 Axes>"
      ]
     },
     "metadata": {
      "needs_background": "light"
     },
     "output_type": "display_data"
    }
   ],
   "source": [
    "fig=plt.figure(figsize=(10,8))\n",
    "sns.heatmap(titanic_clear.corr(),annot=True)"
   ]
  },
  {
   "cell_type": "markdown",
   "id": "imperial-person",
   "metadata": {},
   "source": [
    "#### Analysing the Survival of people"
   ]
  },
  {
   "cell_type": "code",
   "execution_count": 10,
   "id": "wrong-cement",
   "metadata": {},
   "outputs": [
    {
     "data": {
      "text/plain": [
       "<AxesSubplot:xlabel='Pclass', ylabel='Age'>"
      ]
     },
     "execution_count": 10,
     "metadata": {},
     "output_type": "execute_result"
    },
    {
     "data": {
      "image/png": "[encoded data removed]",
      "text/plain": [
       "<Figure size 720x576 with 1 Axes>"
      ]
     },
     "metadata": {
      "needs_background": "light"
     },
     "output_type": "display_data"
    }
   ],
   "source": [
    "fig=plt.figure(figsize=(10,8))\n",
    "sns.barplot(x=titanic_clear[\"Pclass\"],y=titanic_clear[\"Age\"],hue=titanic_clear[\"Survived\"])"
   ]
  },
  {
   "cell_type": "markdown",
   "id": "august-rough",
   "metadata": {},
   "source": [
    "It says that people belongs to 1st class has Survived more than the other class people and Unsurvived people also higher than other classes  "
   ]
  },
  {
   "cell_type": "code",
   "execution_count": 11,
   "id": "brown-kansas",
   "metadata": {},
   "outputs": [
    {
     "data": {
      "text/plain": [
       "<AxesSubplot:xlabel='Embarked', ylabel='Age'>"
      ]
     },
     "execution_count": 11,
     "metadata": {},
     "output_type": "execute_result"
    },
    {
     "data": {
      "image/png": "[encoded data removed]",
      "text/plain": [
       "<Figure size 720x576 with 1 Axes>"
      ]
     },
     "metadata": {
      "needs_background": "light"
     },
     "output_type": "display_data"
    }
   ],
   "source": [
    "fig=plt.figure(figsize=(10,8))\n",
    "sns.barplot(x=titanic_clear[\"Embarked\"],y=titanic_clear[\"Age\"],hue=titanic_clear[\"Cabin_imp\"])"
   ]
  },
  {
   "cell_type": "markdown",
   "id": "surgical-alert",
   "metadata": {},
   "source": [
    "From above Datas,It Shows that More people Occupied all Cabins Embarked at S.  "
   ]
  },
  {
   "cell_type": "markdown",
   "id": "pleasant-valuation",
   "metadata": {},
   "source": [
    "#### Distribution of Numerical Features\n",
    "It has Continuous and Discrete Distribution"
   ]
  },
  {
   "cell_type": "code",
   "execution_count": 12,
   "id": "handy-color",
   "metadata": {},
   "outputs": [],
   "source": [
    "discrete_num_distr=titanic_clear.dtypes[titanic_clear.dtypes==\"int64\"].index"
   ]
  },
  {
   "cell_type": "markdown",
   "id": "liquid-rendering",
   "metadata": {},
   "source": [
    "#### Discrete Distribution plot"
   ]
  },
  {
   "cell_type": "code",
   "execution_count": 13,
   "id": "sustainable-potter",
   "metadata": {},
   "outputs": [
    {
     "data": {
      "image/png": "[encoded data removed]",
      "text/plain": [
       "<Figure size 432x288 with 1 Axes>"
      ]
     },
     "metadata": {
      "needs_background": "light"
     },
     "output_type": "display_data"
    },
    {
     "data": {
      "image/png": "[encoded data removed]",
      "text/plain": [
       "<Figure size 432x288 with 1 Axes>"
      ]
     },
     "metadata": {
      "needs_background": "light"
     },
     "output_type": "display_data"
    },
    {
     "data": {
      "image/png": "[encoded data removed]",
      "text/plain": [
       "<Figure size 432x288 with 1 Axes>"
      ]
     },
     "metadata": {
      "needs_background": "light"
     },
     "output_type": "display_data"
    },
    {
     "data": {
      "image/png": "[encoded data removed]",
      "text/plain": [
       "<Figure size 432x288 with 1 Axes>"
      ]
     },
     "metadata": {
      "needs_background": "light"
     },
     "output_type": "display_data"
    }
   ],
   "source": [
    "for i in discrete_num_distr:\n",
    "    sns.barplot(x=titanic_clear[i],y=titanic_clear[\"Age\"])\n",
    "    plt.title(i)\n",
    "    plt.show()"
   ]
  },
  {
   "cell_type": "markdown",
   "id": "loving-slovakia",
   "metadata": {},
   "source": [
    "#### Continuous Numerical Distribution plot"
   ]
  },
  {
   "cell_type": "code",
   "execution_count": 14,
   "id": "martial-upset",
   "metadata": {},
   "outputs": [],
   "source": [
    "conti_dis_feat=titanic_clear.dtypes[titanic_clear.dtypes==\"float64\"].index"
   ]
  },
  {
   "cell_type": "code",
   "execution_count": 15,
   "id": "harmful-colony",
   "metadata": {},
   "outputs": [
    {
     "data": {
      "image/png": "[encoded data removed]",
      "text/plain": [
       "<Figure size 432x288 with 1 Axes>"
      ]
     },
     "metadata": {
      "needs_background": "light"
     },
     "output_type": "display_data"
    },
    {
     "data": {
      "image/png": "[encoded data removed]",
      "text/plain": [
       "<Figure size 432x288 with 1 Axes>"
      ]
     },
     "metadata": {
      "needs_background": "light"
     },
     "output_type": "display_data"
    }
   ],
   "source": [
    "for i in conti_dis_feat:\n",
    "    sns.histplot(titanic_clear[i],kde=True)\n",
    "    plt.title(i)\n",
    "    plt.show()"
   ]
  },
  {
   "cell_type": "markdown",
   "id": "popular-intervention",
   "metadata": {},
   "source": [
    "### Encoding  Categorical Features"
   ]
  },
  {
   "cell_type": "markdown",
   "id": "combined-aquarium",
   "metadata": {},
   "source": [
    "#### Cabin is Ranked Manner \n",
    "It is Encoded using Mean Encoding"
   ]
  },
  {
   "cell_type": "code",
   "execution_count": 16,
   "id": "sweet-tracker",
   "metadata": {},
   "outputs": [],
   "source": [
    "impu_1=titanic_clear.groupby(titanic_clear.Cabin_imp)['Survived'].mean().to_dict()\n",
    "copy=impu_1\n",
    "titanic_clear.Cabin_imp.replace(impu_1,inplace=True)\n"
   ]
  },
  {
   "cell_type": "markdown",
   "id": "cooked-croatia",
   "metadata": {},
   "source": [
    "#### Embarked and Sex are Encoded using One hot Encoding"
   ]
  },
  {
   "cell_type": "code",
   "execution_count": 17,
   "id": "collectible-session",
   "metadata": {},
   "outputs": [],
   "source": [
    "titanic_clear=pd.concat([pd.get_dummies(titanic_clear.Embarked,drop_first=True),titanic_clear],axis=1)\n",
    "titanic_clear=pd.concat([pd.get_dummies(titanic_clear.Sex,drop_first=True),titanic_clear],axis=1)\n",
    "titanic_clear.drop(['Sex','Embarked'],axis=1,inplace=True)"
   ]
  },
  {
   "cell_type": "code",
   "execution_count": 18,
   "id": "european-queens",
   "metadata": {},
   "outputs": [],
   "source": [
    "titanic_cleaned_data=titanic_clear"
   ]
  },
  {
   "cell_type": "code",
   "execution_count": 19,
   "id": "outstanding-crystal",
   "metadata": {},
   "outputs": [
    {
     "data": {
      "text/html": [
       "<div>\n",
       "<style scoped>\n",
       "    .dataframe tbody tr th:only-of-type {\n",
       "        vertical-align: middle;\n",
       "    }\n",
       "\n",
       "    .dataframe tbody tr th {\n",
       "        vertical-align: top;\n",
       "    }\n",
       "\n",
       "    .dataframe thead th {\n",
       "        text-align: right;\n",
       "    }\n",
       "</style>\n",
       "<table border=\"1\" class=\"dataframe\">\n",
       "  <thead>\n",
       "    <tr style=\"text-align: right;\">\n",
       "      <th></th>\n",
       "      <th>male</th>\n",
       "      <th>Q</th>\n",
       "      <th>S</th>\n",
       "      <th>Survived</th>\n",
       "      <th>Pclass</th>\n",
       "      <th>Age</th>\n",
       "      <th>SibSp</th>\n",
       "      <th>Parch</th>\n",
       "      <th>Fare</th>\n",
       "      <th>Cabin_imp</th>\n",
       "    </tr>\n",
       "  </thead>\n",
       "  <tbody>\n",
       "    <tr>\n",
       "      <th>0</th>\n",
       "      <td>1</td>\n",
       "      <td>0</td>\n",
       "      <td>1</td>\n",
       "      <td>0</td>\n",
       "      <td>3</td>\n",
       "      <td>22.0</td>\n",
       "      <td>1</td>\n",
       "      <td>0</td>\n",
       "      <td>7.2500</td>\n",
       "      <td>0.295008</td>\n",
       "    </tr>\n",
       "    <tr>\n",
       "      <th>2</th>\n",
       "      <td>0</td>\n",
       "      <td>0</td>\n",
       "      <td>1</td>\n",
       "      <td>1</td>\n",
       "      <td>3</td>\n",
       "      <td>26.0</td>\n",
       "      <td>0</td>\n",
       "      <td>0</td>\n",
       "      <td>7.9250</td>\n",
       "      <td>0.295008</td>\n",
       "    </tr>\n",
       "    <tr>\n",
       "      <th>3</th>\n",
       "      <td>0</td>\n",
       "      <td>0</td>\n",
       "      <td>1</td>\n",
       "      <td>1</td>\n",
       "      <td>1</td>\n",
       "      <td>35.0</td>\n",
       "      <td>1</td>\n",
       "      <td>0</td>\n",
       "      <td>53.1000</td>\n",
       "      <td>0.545455</td>\n",
       "    </tr>\n",
       "    <tr>\n",
       "      <th>4</th>\n",
       "      <td>1</td>\n",
       "      <td>0</td>\n",
       "      <td>1</td>\n",
       "      <td>0</td>\n",
       "      <td>3</td>\n",
       "      <td>35.0</td>\n",
       "      <td>0</td>\n",
       "      <td>0</td>\n",
       "      <td>8.0500</td>\n",
       "      <td>0.295008</td>\n",
       "    </tr>\n",
       "    <tr>\n",
       "      <th>5</th>\n",
       "      <td>1</td>\n",
       "      <td>1</td>\n",
       "      <td>0</td>\n",
       "      <td>0</td>\n",
       "      <td>3</td>\n",
       "      <td>73.0</td>\n",
       "      <td>0</td>\n",
       "      <td>0</td>\n",
       "      <td>8.4583</td>\n",
       "      <td>0.295008</td>\n",
       "    </tr>\n",
       "  </tbody>\n",
       "</table>\n",
       "</div>"
      ],
      "text/plain": [
       "   male  Q  S  Survived  Pclass   Age  SibSp  Parch     Fare  Cabin_imp\n",
       "0     1  0  1         0       3  22.0      1      0   7.2500   0.295008\n",
       "2     0  0  1         1       3  26.0      0      0   7.9250   0.295008\n",
       "3     0  0  1         1       1  35.0      1      0  53.1000   0.545455\n",
       "4     1  0  1         0       3  35.0      0      0   8.0500   0.295008\n",
       "5     1  1  0         0       3  73.0      0      0   8.4583   0.295008"
      ]
     },
     "execution_count": 19,
     "metadata": {},
     "output_type": "execute_result"
    }
   ],
   "source": [
    "titanic_cleaned_data.head()"
   ]
  }
 ],
 "metadata": {
  "kernelspec": {
   "display_name": "Python 3",
   "language": "python",
   "name": "python3"
  },
  "language_info": {
   "codemirror_mode": {
    "name": "ipython",
    "version": 3
   },
   "file_extension": ".py",
   "mimetype": "text/x-python",
   "name": "python",
   "nbconvert_exporter": "python",
   "pygments_lexer": "ipython3",
   "version": "3.7.0"
  }
 },
 "nbformat": 4,
 "nbformat_minor": 5
}
